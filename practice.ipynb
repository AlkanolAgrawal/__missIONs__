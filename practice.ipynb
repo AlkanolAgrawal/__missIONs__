{
 "cells": [
  {
   "cell_type": "code",
   "execution_count": null,
   "id": "abdb9276",
   "metadata": {},
   "outputs": [],
   "source": [
    "\n",
    "import nltk\n",
    "from nltk import sent_tokenize, word_tokenize\n",
    "from nltk.corpus import stopwords \n",
    "words = stopwords.words(\"english\")\n",
    "import string\n",
    "nltk.download('punkt_tab')\n",
    "nltk.download('wordnet')\n",
    "\n",
    "corpus = '''Here are some key themes and notable speeches:\n",
    "1. Vision for India: \n",
    "Dr. Kalam's \"My Vision for India\" speech outlined his vision for India to become a developed nation by focusing on key areas like education, healthcare, and infrastructure.\n",
    "He stressed the need for individuals to realize their potential and contribute to nation-building.\n",
    "2. Inspiring Youth: \n",
    "Many of his speeches were directed at young people, encouraging them to dream big, acquire knowledge, and work hard to achieve their goals.\n",
    "He often highlighted the importance of setting goals, acquiring knowledge, working diligently, and persevering through challenges.\n",
    "3. Culture of Excellence: \n",
    "Dr. Kalam advocated for a \"culture of excellence\" where individuals continuously strive to improve themselves and their performance standards.\n",
    "He emphasized that this pursuit of excellence should not be a competition with others but rather a personal journey of self-improvement.\n",
    "4. Notable Speeches: \n",
    "Several of his speeches are available on platforms like YouTube and the President of India website.\n",
    "His speeches at events like the Rashtrapati Bhavan, the European Union, and various educational institutions are also notable.\n",
    "His \"Thanks Giving Address to the Nation\" on July 24, 2007, is another example of his impactful communication.\n",
    "'''\n",
    "# print(corpus)\n",
    "lemmatizer = nltk.WordNetLemmatizer()\n",
    "nltk.download('averaged_perceptron_tagger')"
   ]
  },
  {
   "cell_type": "code",
   "execution_count": null,
   "id": "d07e8341",
   "metadata": {},
   "outputs": [],
   "source": [
    "import nltk\n",
    "print(nltk.data.path)"
   ]
  },
  {
   "cell_type": "code",
   "execution_count": null,
   "id": "32b7b684",
   "metadata": {},
   "outputs": [],
   "source": [
    "docs = sent_tokenize(corpus, language='english')\n",
    "st_words = stopwords.words('english')\n",
    "\n",
    "fil_words=[]\n",
    "fil_sent=[]\n",
    "for sent in docs:\n",
    "    temp=[]\n",
    "    for word in word_tokenize(sent):\n",
    "        if lemmatizer.lemmatize(word.lower(),pos='v') not in st_words and word.isalpha():\n",
    "            fil_words.append(word)\n",
    "            temp.append(word)\n",
    "    temp=\" \".join(temp)\n",
    "    fil_sent.append(temp)\n",
    "for s in fil_sent:\n",
    "    print(s)\n",
    "for i in range(1):\n",
    "    print()\n",
    "# for s in fil_words:\n",
    "#     print(s)\n",
    "\n"
   ]
  },
  {
   "cell_type": "code",
   "execution_count": null,
   "id": "50dfa119",
   "metadata": {},
   "outputs": [],
   "source": [
    "stopwords.words('english')"
   ]
  },
  {
   "cell_type": "code",
   "execution_count": 2,
   "metadata": {},
   "outputs": [
    {
     "name": "stdout",
     "output_type": "stream",
     "text": [
      "LinearRegression()\n",
      "Lasso()\n",
      "Ridge()\n",
      "KNeighborsRegressor()\n",
      "DecisionTreeRegressor()\n",
      "RandomForestRegressor()\n",
      "GradientBoostingRegressor()\n",
      "SVR()\n",
      "CatBoostRegressor(verbose=0)\n",
      "XGBRegressor(eval_metric='rmse')\n",
      "AdaBoostRegressor()\n"
     ]
    }
   ],
   "source": [
    "models = {\n",
    "    \"LinearRegression\" :\"LinearRegression()\",\n",
    "    \"Lasso\" : \"Lasso()\",\n",
    "    \"Ridge\" : \"Ridge()\",\n",
    "    \"KNN\" : \"KNeighborsRegressor()\",\n",
    "    \"DecisionTree\" : \"DecisionTreeRegressor()\",\n",
    "    \"RandomForest\" : \"RandomForestRegressor()\",\n",
    "    \"GradientBoosting\" : \"GradientBoostingRegressor()\",\n",
    "    \"SVR\" : \"SVR()\",\n",
    "    \"CatBoost\" : \"CatBoostRegressor(verbose=0)\",\n",
    "    \"XGBoost\" : \"XGBRegressor(eval_metric='rmse')\",\n",
    "    \"AdaBoost\" : \"AdaBoostRegressor()\",\n",
    "}\n",
    "for i in models.values():\n",
    "    print(i)\n",
    "    "
   ]
  },
  {
   "cell_type": "code",
   "execution_count": null,
   "metadata": {},
   "outputs": [],
   "source": []
  },
  {
   "cell_type": "code",
   "execution_count": null,
   "metadata": {},
   "outputs": [],
   "source": []
  },
  {
   "cell_type": "code",
   "execution_count": null,
   "id": "d89bfc36",
   "metadata": {},
   "outputs": [],
   "source": []
  },
  {
   "cell_type": "code",
   "execution_count": null,
   "id": "ac36e9f7",
   "metadata": {},
   "outputs": [],
   "source": []
  }
 ],
 "metadata": {
  "kernelspec": {
   "display_name": "env (3.11.2)",
   "language": "python",
   "name": "python3"
  },
  "language_info": {
   "codemirror_mode": {
    "name": "ipython",
    "version": 3
   },
   "file_extension": ".py",
   "mimetype": "text/x-python",
   "name": "python",
   "nbconvert_exporter": "python",
   "pygments_lexer": "ipython3",
   "version": "3.11.2"
  }
 },
 "nbformat": 4,
 "nbformat_minor": 5
}
